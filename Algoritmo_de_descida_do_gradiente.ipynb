{
  "nbformat": 4,
  "nbformat_minor": 0,
  "metadata": {
    "colab": {
      "name": "Algoritmo-de-descida-do-gradiente.ipynb",
      "provenance": [],
      "authorship_tag": "ABX9TyOKp1mEz7VYcnMvAMkiE2XW",
      "include_colab_link": true
    },
    "kernelspec": {
      "name": "python3",
      "display_name": "Python 3"
    },
    "language_info": {
      "name": "python"
    }
  },
  "cells": [
    {
      "cell_type": "markdown",
      "metadata": {
        "id": "view-in-github",
        "colab_type": "text"
      },
      "source": [
        "<a href=\"https://colab.research.google.com/github/williamgomes62/introduction-to-optimization/blob/main/Algoritmo_de_descida_do_gradiente.ipynb\" target=\"_parent\"><img src=\"https://colab.research.google.com/assets/colab-badge.svg\" alt=\"Open In Colab\"/></a>"
      ]
    },
    {
      "cell_type": "code",
      "metadata": {
        "colab": {
          "base_uri": "https://localhost:8080/"
        },
        "id": "1z-k9u8NV7w5",
        "outputId": "0f42a807-8876-4735-ca52-5198557e0bf0"
      },
      "source": [
        "pip install numdifftools\n"
      ],
      "execution_count": 1,
      "outputs": [
        {
          "output_type": "stream",
          "text": [
            "Requirement already satisfied: numdifftools in /usr/local/lib/python3.7/dist-packages (0.9.39)\n"
          ],
          "name": "stdout"
        }
      ]
    },
    {
      "cell_type": "code",
      "metadata": {
        "id": "8SFbHsiAWItq"
      },
      "source": [
        "import numpy as np\n",
        "from scipy import optimize\n",
        "from numdifftools import Gradient"
      ],
      "execution_count": 2,
      "outputs": []
    },
    {
      "cell_type": "code",
      "metadata": {
        "id": "MDPt5l7ZWPTp"
      },
      "source": [
        "def gradiente(maxiter,x0, obj, B, T):\n",
        "  \n",
        "  k=1\n",
        "  fim = 0\n",
        "  xk = np.copy(x0)\n",
        "  alpha = 1\n",
        "    \n",
        "  while fim==0:\n",
        "    grad = (-1)* Gradient(obj)(xk)\n",
        "   \n",
        "    f_alpha = lambda a: obj(xk + a*grad) # transformacao em uma variavel\n",
        "    \n",
        "    alpha = optimize.golden(f_alpha, brack=(alpha, B))\n",
        "        \n",
        "    xk = xk + alpha*grad\n",
        "    \n",
        "    if np.abs(obj(x0) - obj(xk)) < T:\n",
        "      fim = 1\n",
        "\n",
        "    elif k >= maxiter:\n",
        "      fim = 1\n",
        "\n",
        "    else:\n",
        "      x0 = np.copy(xk)\n",
        "      k = k + 1\n",
        "\n",
        "    print(xk)\n",
        "  \n",
        "    \n",
        "    \n",
        "  return xk"
      ],
      "execution_count": 3,
      "outputs": []
    },
    {
      "cell_type": "code",
      "metadata": {
        "colab": {
          "base_uri": "https://localhost:8080/"
        },
        "id": "lNP2Yr4AWW5m",
        "outputId": "22ce07af-d76b-4c59-c5a0-99ef29c64eef"
      },
      "source": [
        "#Teste 1\n",
        "obj = lambda x: 2*(x[0]**2) + x[1]**2; #funcao objetivo\n",
        "\n",
        "maxinter = 20 # maximo de interacoes \n",
        "x0 = [1, 1] # Solucao inicial\n",
        "B = 2 # intervalo do golden \n",
        "T = 0.0000001 # Tolerancia minima da diferença entre as solucoes\n",
        "\n",
        "\n",
        "\n",
        "xFinal = gradiente(maxinter, x0, obj, B, T)\n",
        "print(\" \")\n",
        "print(\"Resultado final do algoritmo:\")\n",
        "print(xFinal)\n",
        "print(\"Resultado do ponto na funcao objetivo:\")\n",
        "print(obj(xFinal))"
      ],
      "execution_count": 4,
      "outputs": [
        {
          "output_type": "stream",
          "text": [
            "[-0.11111112  0.44444444]\n",
            "[0.07407408 0.07407408]\n",
            "[-0.00823045  0.03292181]\n",
            "[0.00548697 0.00548697]\n",
            "[-0.00060966  0.00243865]\n",
            "[0.00040644 0.00040644]\n",
            "[-4.51602412e-05  1.80640964e-04]\n",
            "[3.01068278e-05 3.01068266e-05]\n",
            " \n",
            "Resultado final do algoritmo:\n",
            "[3.01068278e-05 3.01068266e-05]\n",
            "Resultado do ponto na funcao objetivo:\n",
            "2.7192631687125375e-09\n"
          ],
          "name": "stdout"
        }
      ]
    },
    {
      "cell_type": "code",
      "metadata": {
        "colab": {
          "base_uri": "https://localhost:8080/"
        },
        "id": "rhmMe4SVWbG1",
        "outputId": "a45cfeba-5eef-4663-b8be-f3371b51ba4e"
      },
      "source": [
        "#Teste 2\n",
        "obj = lambda x: (x[0]-3)**2 + 2*(x[1] - 3)**2;\n",
        "\n",
        "maxinter = 20 # maximo de interacoes \n",
        "x0 = [1, 1] # Solucao inicial\n",
        "B = 2 # intervalo do golden \n",
        "T = 0.0000001 # Tolerancia minima da diferença entre as solucoes\n",
        "\n",
        "\n",
        "\n",
        "xFinal = gradiente(maxinter, x0, obj, B, T)\n",
        "print(\" \")\n",
        "print(\"Resultado final do algoritmo:\")\n",
        "print(xFinal)\n",
        "print(\"Resultado do ponto na funcao objetivo:\")\n",
        "print(obj(xFinal))"
      ],
      "execution_count": 5,
      "outputs": [
        {
          "output_type": "stream",
          "text": [
            "[2.11111111 3.22222221]\n",
            "[2.85185186 2.85185185]\n",
            "[2.93415638 3.0164609 ]\n",
            "[2.98902606 2.98902606]\n",
            "[2.9951227  3.00121933]\n",
            "[2.99918711 2.99918712]\n",
            "[2.99963872 3.00009032]\n",
            "[2.99993979 2.99993979]\n",
            "[2.99997324 3.00000669]\n",
            " \n",
            "Resultado final do algoritmo:\n",
            "[2.99997324 3.00000669]\n",
            "Resultado do ponto na funcao objetivo:\n",
            "8.057095017285451e-10\n"
          ],
          "name": "stdout"
        }
      ]
    }
  ]
}